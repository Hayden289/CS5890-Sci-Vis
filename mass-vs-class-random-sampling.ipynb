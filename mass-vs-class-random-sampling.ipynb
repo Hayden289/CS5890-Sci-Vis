{
 "cells": [
  {
   "cell_type": "code",
   "execution_count": null,
   "metadata": {},
   "outputs": [],
   "source": [
    "# this entry is necessary when using matplotlib in a jupyter notebook\n",
    "%matplotlib notebook \n",
    "\n",
    "import matplotlib.pyplot as plt \n",
    "import numpy as np\n",
    "from ipywidgets import interact, interactive, fixed, interact_manual\n",
    "import ipywidgets as widgets"
   ]
  },
  {
   "cell_type": "code",
   "execution_count": null,
   "metadata": {},
   "outputs": [],
   "source": [
    "Name, Year, Country, FrenchRegion, Class, Mass, Latitude, Longitude, Type, Fall, CountryCode, Id, GeoLocation = np.loadtxt(\"meteorite-landings.csv\", delimiter=\";\", skiprows=1, unpack=True,\n",
    "    dtype={\n",
    "        'names': ('Name','Year','Country','French region','Class','Mass','Latitude','Longitude','Type','Fall','Country code','id','Geo Location'),\n",
    "        'formats': ('U15', 'U15', 'U15','U15', 'U15', 'U15','U15','U15','U15','U15','U15',np.integer,'U15')})\n",
    "\n",
    "masses = []\n",
    "classes = []\n",
    "\n",
    "i=0\n",
    "for c in Class:\n",
    "#     print(c)\n",
    "    if c == \"\" or c == None:\n",
    "        masses.pop(i)\n",
    "    else:    \n",
    "        classes.append(c)\n",
    "    ++i\n",
    "\n",
    "i = 0\n",
    "for m in Mass:\n",
    "    try:\n",
    "        mass = float(m)\n",
    "        ++i\n",
    "        masses.append(mass)\n",
    "    except ValueError:\n",
    "        classes.pop(i)\n",
    "#         print(\"not a float\")\n",
    "\n",
    "# print(masses)\n",
    "# print(classes)"
   ]
  },
  {
   "cell_type": "code",
   "execution_count": null,
   "metadata": {},
   "outputs": [],
   "source": [
    "import random\n",
    "\n",
    "pltClass = random.sample(classes, k=50)\n",
    "pltMass = random.sample(masses, k=50)\n",
    "\n",
    "plt.figure()\n",
    "plt.xlabel('Class')\n",
    "plt.ylabel('Mass')\n",
    "plt.title('Mass vs Class Random Sample')\n",
    "plt.bar(pltClass, pltMass)\n",
    "plt.xticks(rotation=45, snap=True)\n",
    "plt.show()"
   ]
  }
 ],
 "metadata": {
  "kernelspec": {
   "display_name": "Python 3",
   "language": "python",
   "name": "python3"
  },
  "language_info": {
   "codemirror_mode": {
    "name": "ipython",
    "version": 3
   },
   "file_extension": ".py",
   "mimetype": "text/x-python",
   "name": "python",
   "nbconvert_exporter": "python",
   "pygments_lexer": "ipython3",
   "version": "3.8.5"
  }
 },
 "nbformat": 4,
 "nbformat_minor": 4
}
